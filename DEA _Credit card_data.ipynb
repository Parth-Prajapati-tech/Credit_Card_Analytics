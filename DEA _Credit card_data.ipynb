{
 "cells": [
  {
   "cell_type": "markdown",
   "id": "ebd9b5af-adbd-4426-9ac1-b2362d1f851e",
   "metadata": {},
   "source": [
    "Business Questitions:\n",
    "\n",
    "1. In case age is <18, replace it with mean of age values."
   ]
  },
  {
   "cell_type": "code",
   "execution_count": 52,
   "id": "ae901cd9-2f0d-4d5e-abb1-17f00a6b6afc",
   "metadata": {},
   "outputs": [],
   "source": [
    "import pandas as pd\n",
    "import numpy as np\n",
    "import datetime as dt\n",
    "import matplotlib.pyplot as plt\n",
    "%matplotlib inline\n",
    "import seaborn as sns\n",
    "import warnings\n",
    "warnings.filterwarnings('ignore')"
   ]
  },
  {
   "cell_type": "code",
   "execution_count": 53,
   "id": "92188b94-ca33-4d97-b711-8031740a446a",
   "metadata": {},
   "outputs": [],
   "source": [
    "Cust_df = pd.read_csv('C://Users//Om Computers//Desktop//Projects//Python for Analytics - Projects_//Python for Analytics - Projects_Parth//Case Study 2- Credit Card//Case Study 2 - Credit Card Case Study//Customer Acqusition.csv')\n",
    "Rep_df = pd.read_csv('C://Users//Om Computers//Desktop//Projects//Python for Analytics - Projects_//Python for Analytics - Projects_Parth//Case Study 2- Credit Card//Case Study 2 - Credit Card Case Study//Repayment.csv')\n",
    "Spnd_df = pd.read_csv('C://Users//Om Computers//Desktop//Projects//Python for Analytics - Projects_//Python for Analytics - Projects_Parth//Case Study 2- Credit Card//Case Study 2 - Credit Card Case Study//spend.csv')"
   ]
  },
  {
   "cell_type": "code",
   "execution_count": 54,
   "id": "29f1e4e8-a661-44ef-8f27-dab2d79e8130",
   "metadata": {},
   "outputs": [
    {
     "data": {
      "text/plain": [
       "Index(['No', 'Customer', 'Age', 'City', 'Product', 'Limit', 'Company',\n",
       "       'Segment'],\n",
       "      dtype='object')"
      ]
     },
     "execution_count": 54,
     "metadata": {},
     "output_type": "execute_result"
    }
   ],
   "source": [
    "Cust_df.columns"
   ]
  },
  {
   "cell_type": "code",
   "execution_count": 55,
   "id": "75889a9f-f31c-4f68-bcec-119c2633c303",
   "metadata": {},
   "outputs": [
    {
     "data": {
      "text/plain": [
       "Index(['SL No:', 'Customer', 'Month', 'Amount', 'Unnamed: 4'], dtype='object')"
      ]
     },
     "execution_count": 55,
     "metadata": {},
     "output_type": "execute_result"
    }
   ],
   "source": [
    "Rep_df.columns"
   ]
  },
  {
   "cell_type": "code",
   "execution_count": 56,
   "id": "2b8de17f-b40d-429b-bd52-79c9da76f5f2",
   "metadata": {},
   "outputs": [
    {
     "data": {
      "text/plain": [
       "Index(['Sl No:', 'Customer', 'Month', 'Type', 'Amount'], dtype='object')"
      ]
     },
     "execution_count": 56,
     "metadata": {},
     "output_type": "execute_result"
    }
   ],
   "source": [
    "Spnd_df.columns"
   ]
  },
  {
   "cell_type": "code",
   "execution_count": 57,
   "id": "613ce108-344d-434b-8885-e30fd351f16d",
   "metadata": {},
   "outputs": [],
   "source": [
    "Cust_spnd_df = pd.merge(left= Cust_df, right=Spnd_df, left_on='Customer', right_on='Customer', how='inner')\n",
    "Cust_rep_df = pd.merge(left=Cust_df, right= Rep_df, left_on='Customer', right_on='Customer', how='inner')"
   ]
  },
  {
   "cell_type": "code",
   "execution_count": 58,
   "id": "280bbd9e-b1b4-429f-abc0-9d928cfb3d20",
   "metadata": {},
   "outputs": [
    {
     "data": {
      "text/html": [
       "<div>\n",
       "<style scoped>\n",
       "    .dataframe tbody tr th:only-of-type {\n",
       "        vertical-align: middle;\n",
       "    }\n",
       "\n",
       "    .dataframe tbody tr th {\n",
       "        vertical-align: top;\n",
       "    }\n",
       "\n",
       "    .dataframe thead th {\n",
       "        text-align: right;\n",
       "    }\n",
       "</style>\n",
       "<table border=\"1\" class=\"dataframe\">\n",
       "  <thead>\n",
       "    <tr style=\"text-align: right;\">\n",
       "      <th></th>\n",
       "      <th>No</th>\n",
       "      <th>Customer</th>\n",
       "      <th>Age</th>\n",
       "      <th>City</th>\n",
       "      <th>Product</th>\n",
       "      <th>Limit</th>\n",
       "      <th>Company</th>\n",
       "      <th>Segment</th>\n",
       "      <th>Sl No:</th>\n",
       "      <th>Month</th>\n",
       "      <th>Type</th>\n",
       "      <th>Amount</th>\n",
       "    </tr>\n",
       "  </thead>\n",
       "  <tbody>\n",
       "    <tr>\n",
       "      <th>0</th>\n",
       "      <td>1</td>\n",
       "      <td>A1</td>\n",
       "      <td>76</td>\n",
       "      <td>BANGALORE</td>\n",
       "      <td>Gold</td>\n",
       "      <td>500000.0</td>\n",
       "      <td>C1</td>\n",
       "      <td>Self Employed</td>\n",
       "      <td>1</td>\n",
       "      <td>12-Jan-04</td>\n",
       "      <td>JEWELLERY</td>\n",
       "      <td>485470.80</td>\n",
       "    </tr>\n",
       "    <tr>\n",
       "      <th>1</th>\n",
       "      <td>1</td>\n",
       "      <td>A1</td>\n",
       "      <td>76</td>\n",
       "      <td>BANGALORE</td>\n",
       "      <td>Gold</td>\n",
       "      <td>500000.0</td>\n",
       "      <td>C1</td>\n",
       "      <td>Self Employed</td>\n",
       "      <td>2</td>\n",
       "      <td>3-Jan-04</td>\n",
       "      <td>PETRO</td>\n",
       "      <td>410556.13</td>\n",
       "    </tr>\n",
       "    <tr>\n",
       "      <th>2</th>\n",
       "      <td>1</td>\n",
       "      <td>A1</td>\n",
       "      <td>76</td>\n",
       "      <td>BANGALORE</td>\n",
       "      <td>Gold</td>\n",
       "      <td>500000.0</td>\n",
       "      <td>C1</td>\n",
       "      <td>Self Employed</td>\n",
       "      <td>3</td>\n",
       "      <td>15-Jan-04</td>\n",
       "      <td>CLOTHES</td>\n",
       "      <td>23740.46</td>\n",
       "    </tr>\n",
       "  </tbody>\n",
       "</table>\n",
       "</div>"
      ],
      "text/plain": [
       "   No Customer  Age       City Product     Limit Company        Segment  \\\n",
       "0   1       A1   76  BANGALORE    Gold  500000.0      C1  Self Employed   \n",
       "1   1       A1   76  BANGALORE    Gold  500000.0      C1  Self Employed   \n",
       "2   1       A1   76  BANGALORE    Gold  500000.0      C1  Self Employed   \n",
       "\n",
       "   Sl No:      Month       Type     Amount  \n",
       "0       1  12-Jan-04  JEWELLERY  485470.80  \n",
       "1       2   3-Jan-04      PETRO  410556.13  \n",
       "2       3  15-Jan-04    CLOTHES   23740.46  "
      ]
     },
     "execution_count": 58,
     "metadata": {},
     "output_type": "execute_result"
    }
   ],
   "source": [
    "Cust_spnd_df.head(3)"
   ]
  },
  {
   "cell_type": "code",
   "execution_count": 59,
   "id": "d7a7d30a-5063-442e-b4ea-13484c1be50f",
   "metadata": {},
   "outputs": [
    {
     "data": {
      "text/html": [
       "<div>\n",
       "<style scoped>\n",
       "    .dataframe tbody tr th:only-of-type {\n",
       "        vertical-align: middle;\n",
       "    }\n",
       "\n",
       "    .dataframe tbody tr th {\n",
       "        vertical-align: top;\n",
       "    }\n",
       "\n",
       "    .dataframe thead th {\n",
       "        text-align: right;\n",
       "    }\n",
       "</style>\n",
       "<table border=\"1\" class=\"dataframe\">\n",
       "  <thead>\n",
       "    <tr style=\"text-align: right;\">\n",
       "      <th></th>\n",
       "      <th>No</th>\n",
       "      <th>Customer</th>\n",
       "      <th>Age</th>\n",
       "      <th>City</th>\n",
       "      <th>Product</th>\n",
       "      <th>Limit</th>\n",
       "      <th>Company</th>\n",
       "      <th>Segment</th>\n",
       "      <th>SL No:</th>\n",
       "      <th>Month</th>\n",
       "      <th>Amount</th>\n",
       "      <th>Unnamed: 4</th>\n",
       "    </tr>\n",
       "  </thead>\n",
       "  <tbody>\n",
       "    <tr>\n",
       "      <th>0</th>\n",
       "      <td>1</td>\n",
       "      <td>A1</td>\n",
       "      <td>76</td>\n",
       "      <td>BANGALORE</td>\n",
       "      <td>Gold</td>\n",
       "      <td>500000.0</td>\n",
       "      <td>C1</td>\n",
       "      <td>Self Employed</td>\n",
       "      <td>NaN</td>\n",
       "      <td>12-Jan-04</td>\n",
       "      <td>495414.75</td>\n",
       "      <td>NaN</td>\n",
       "    </tr>\n",
       "    <tr>\n",
       "      <th>1</th>\n",
       "      <td>1</td>\n",
       "      <td>A1</td>\n",
       "      <td>76</td>\n",
       "      <td>BANGALORE</td>\n",
       "      <td>Gold</td>\n",
       "      <td>500000.0</td>\n",
       "      <td>C1</td>\n",
       "      <td>Self Employed</td>\n",
       "      <td>2.0</td>\n",
       "      <td>3-Jan-04</td>\n",
       "      <td>245899.02</td>\n",
       "      <td>NaN</td>\n",
       "    </tr>\n",
       "    <tr>\n",
       "      <th>2</th>\n",
       "      <td>1</td>\n",
       "      <td>A1</td>\n",
       "      <td>76</td>\n",
       "      <td>BANGALORE</td>\n",
       "      <td>Gold</td>\n",
       "      <td>500000.0</td>\n",
       "      <td>C1</td>\n",
       "      <td>Self Employed</td>\n",
       "      <td>3.0</td>\n",
       "      <td>15-Jan-04</td>\n",
       "      <td>259490.06</td>\n",
       "      <td>NaN</td>\n",
       "    </tr>\n",
       "  </tbody>\n",
       "</table>\n",
       "</div>"
      ],
      "text/plain": [
       "   No Customer  Age       City Product     Limit Company        Segment  \\\n",
       "0   1       A1   76  BANGALORE    Gold  500000.0      C1  Self Employed   \n",
       "1   1       A1   76  BANGALORE    Gold  500000.0      C1  Self Employed   \n",
       "2   1       A1   76  BANGALORE    Gold  500000.0      C1  Self Employed   \n",
       "\n",
       "   SL No:      Month     Amount  Unnamed: 4  \n",
       "0     NaN  12-Jan-04  495414.75         NaN  \n",
       "1     2.0   3-Jan-04  245899.02         NaN  \n",
       "2     3.0  15-Jan-04  259490.06         NaN  "
      ]
     },
     "execution_count": 59,
     "metadata": {},
     "output_type": "execute_result"
    }
   ],
   "source": [
    "Cust_rep_df.head(3)"
   ]
  },
  {
   "cell_type": "code",
   "execution_count": 60,
   "id": "1f11b43a-8366-4224-9d94-88240d78bbeb",
   "metadata": {},
   "outputs": [
    {
     "data": {
      "text/plain": [
       "Age\n",
       "16    34\n",
       "13    31\n",
       "15     3\n",
       "12     2\n",
       "Name: count, dtype: int64"
      ]
     },
     "execution_count": 60,
     "metadata": {},
     "output_type": "execute_result"
    }
   ],
   "source": [
    "(Cust_spnd_df['Age'][Cust_spnd_df['Age']<18]).value_counts()"
   ]
  },
  {
   "cell_type": "code",
   "execution_count": 61,
   "id": "ba05f1ad-c541-4fd8-a7c6-41808c3fd9b1",
   "metadata": {},
   "outputs": [],
   "source": [
    "Cust_spnd_df.loc[(Cust_spnd_df['Age']<18),['Age']] = Cust_spnd_df['Age'].mean()"
   ]
  },
  {
   "cell_type": "markdown",
   "id": "9eb5c7d5-2d8c-4a0a-8ee2-0669cf51a27c",
   "metadata": {},
   "source": [
    "2. if Spend Amount > Limit , replace it with 50% of Customers Limit."
   ]
  },
  {
   "cell_type": "code",
   "execution_count": 62,
   "id": "e1fc3c32-491a-4f64-9269-1496ef6be9a0",
   "metadata": {},
   "outputs": [],
   "source": [
    "Cust_spnd_df.loc[(Cust_spnd_df['Amount']>Cust_spnd_df['Limit']),['Amount']] = Cust_spnd_df['Limit']/2"
   ]
  },
  {
   "cell_type": "code",
   "execution_count": 63,
   "id": "93f57a1e-e7aa-423d-8020-9a668ac4ae09",
   "metadata": {},
   "outputs": [
    {
     "data": {
      "text/plain": [
       "False    1500\n",
       "Name: count, dtype: int64"
      ]
     },
     "execution_count": 63,
     "metadata": {},
     "output_type": "execute_result"
    }
   ],
   "source": [
    "(Cust_spnd_df['Amount']>Cust_spnd_df['Limit']).value_counts()"
   ]
  },
  {
   "cell_type": "markdown",
   "id": "02b9984d-5c80-440d-a0ba-d657d3c71b33",
   "metadata": {},
   "source": [
    "3. if repayment amount > limit , replace it with limit."
   ]
  },
  {
   "cell_type": "code",
   "execution_count": 64,
   "id": "fb12eee8-a653-43c5-9b9f-1b7015b5257f",
   "metadata": {},
   "outputs": [],
   "source": [
    "Cust_rep_df.loc[(Cust_rep_df['Amount']>Cust_rep_df['Limit']),['Amount']] = Cust_rep_df['Limit']"
   ]
  },
  {
   "cell_type": "markdown",
   "id": "c407a5ae-101b-4419-8e73-f7109c9b23fb",
   "metadata": {},
   "source": [
    "4. How many distinct customers exist?"
   ]
  },
  {
   "cell_type": "code",
   "execution_count": 65,
   "id": "21fc569d-5342-4bbe-b491-23307a20dc54",
   "metadata": {},
   "outputs": [
    {
     "data": {
      "text/plain": [
       "100"
      ]
     },
     "execution_count": 65,
     "metadata": {},
     "output_type": "execute_result"
    }
   ],
   "source": [
    "Cust_spnd_df['Customer'].nunique()"
   ]
  },
  {
   "cell_type": "markdown",
   "id": "66bca74d-bb6d-4fc1-ab1f-4d21e45f3a6f",
   "metadata": {},
   "source": [
    "5. How many ditinct product categories exist?"
   ]
  },
  {
   "cell_type": "code",
   "execution_count": 66,
   "id": "8b020256-9288-4a5f-af22-43c2b763fd7b",
   "metadata": {},
   "outputs": [
    {
     "data": {
      "text/plain": [
       "Product\n",
       "Gold        610\n",
       "Platimum    570\n",
       "Silver      320\n",
       "Name: count, dtype: int64"
      ]
     },
     "execution_count": 66,
     "metadata": {},
     "output_type": "execute_result"
    }
   ],
   "source": [
    "Cust_spnd_df['Product'].value_counts()"
   ]
  },
  {
   "cell_type": "markdown",
   "id": "75421aeb-208d-43e4-a74d-7a6fbbe390c0",
   "metadata": {},
   "source": [
    "6. Average monthly spend by Customers."
   ]
  },
  {
   "cell_type": "code",
   "execution_count": 67,
   "id": "67f5bc3d-d902-4b29-a417-0eed8cffec2e",
   "metadata": {},
   "outputs": [
    {
     "data": {
      "text/plain": [
       "Index(['No', 'Customer', 'Age', 'City', 'Product', 'Limit', 'Company',\n",
       "       'Segment', 'Sl No:', 'Month', 'Type', 'Amount'],\n",
       "      dtype='object')"
      ]
     },
     "execution_count": 67,
     "metadata": {},
     "output_type": "execute_result"
    }
   ],
   "source": [
    "Cust_spnd_df.columns"
   ]
  },
  {
   "cell_type": "code",
   "execution_count": 68,
   "id": "1787f93d-098c-412b-b22e-ef70f7f521bf",
   "metadata": {},
   "outputs": [],
   "source": [
    "Cust_spnd_df['Month'] = pd.to_datetime(Cust_spnd_df['Month'],errors='coerce')"
   ]
  },
  {
   "cell_type": "code",
   "execution_count": 69,
   "id": "c318eda7-4147-42b8-b2a9-57ab45e1b925",
   "metadata": {},
   "outputs": [],
   "source": [
    "Cust_spnd_df['Month'] = pd.to_datetime(Cust_spnd_df['Month'],format='%d-%m-%y')"
   ]
  },
  {
   "cell_type": "code",
   "execution_count": 70,
   "id": "cbe459b5-0b12-4f84-b87a-0dfa286431aa",
   "metadata": {},
   "outputs": [],
   "source": [
    "Cust_spnd_df['Year'] = Cust_spnd_df['Month'].dt.year"
   ]
  },
  {
   "cell_type": "code",
   "execution_count": 71,
   "id": "66b80140-2f7b-4b36-a614-e16cea9e8aa9",
   "metadata": {},
   "outputs": [
    {
     "data": {
      "text/plain": [
       "Year\n",
       "2006    549\n",
       "2005    532\n",
       "2004    419\n",
       "Name: count, dtype: int64"
      ]
     },
     "execution_count": 71,
     "metadata": {},
     "output_type": "execute_result"
    }
   ],
   "source": [
    "(Cust_spnd_df['Year']).value_counts()"
   ]
  },
  {
   "cell_type": "code",
   "execution_count": 72,
   "id": "95da290a-214d-4cf6-af0b-3f205d3b1d94",
   "metadata": {},
   "outputs": [],
   "source": [
    "Cust_spnd_df['Month'] = Cust_spnd_df['Month'].dt.strftime('%b')"
   ]
  },
  {
   "cell_type": "code",
   "execution_count": 73,
   "id": "49921c49-7d69-44a6-8e48-8387e95a78a3",
   "metadata": {},
   "outputs": [],
   "source": [
    "Monthly_spnd = Cust_spnd_df.groupby(by=['Year','Month'])[['Amount']].mean().reset_index()"
   ]
  },
  {
   "cell_type": "code",
   "execution_count": 74,
   "id": "efae8db3-f1d8-468e-be0a-c8c1287abe2b",
   "metadata": {},
   "outputs": [],
   "source": [
    "Monthly_spnd['Amount'] = Monthly_spnd[['Amount']].round(2)"
   ]
  },
  {
   "cell_type": "code",
   "execution_count": 77,
   "id": "72402c14-163b-4959-89f1-b4e1289fdffe",
   "metadata": {},
   "outputs": [],
   "source": [
    "Monthly_spnd.rename(columns= {'Amount':'Avg_Monthly_Spnd'}, inplace= True)"
   ]
  },
  {
   "cell_type": "code",
   "execution_count": 80,
   "id": "6ea70ec5-9d5c-4d35-b194-84ecff616a32",
   "metadata": {},
   "outputs": [
    {
     "data": {
      "text/html": [
       "<div>\n",
       "<style scoped>\n",
       "    .dataframe tbody tr th:only-of-type {\n",
       "        vertical-align: middle;\n",
       "    }\n",
       "\n",
       "    .dataframe tbody tr th {\n",
       "        vertical-align: top;\n",
       "    }\n",
       "\n",
       "    .dataframe thead th {\n",
       "        text-align: right;\n",
       "    }\n",
       "</style>\n",
       "<table border=\"1\" class=\"dataframe\">\n",
       "  <thead>\n",
       "    <tr style=\"text-align: right;\">\n",
       "      <th></th>\n",
       "      <th>Year</th>\n",
       "      <th>Month</th>\n",
       "      <th>Avg_Monthly_Spnd</th>\n",
       "    </tr>\n",
       "  </thead>\n",
       "  <tbody>\n",
       "    <tr>\n",
       "      <th>0</th>\n",
       "      <td>2004</td>\n",
       "      <td>Apr</td>\n",
       "      <td>124621.98</td>\n",
       "    </tr>\n",
       "    <tr>\n",
       "      <th>1</th>\n",
       "      <td>2004</td>\n",
       "      <td>Feb</td>\n",
       "      <td>136998.28</td>\n",
       "    </tr>\n",
       "    <tr>\n",
       "      <th>2</th>\n",
       "      <td>2004</td>\n",
       "      <td>Jan</td>\n",
       "      <td>144233.92</td>\n",
       "    </tr>\n",
       "  </tbody>\n",
       "</table>\n",
       "</div>"
      ],
      "text/plain": [
       "   Year Month  Avg_Monthly_Spnd\n",
       "0  2004   Apr         124621.98\n",
       "1  2004   Feb         136998.28\n",
       "2  2004   Jan         144233.92"
      ]
     },
     "execution_count": 80,
     "metadata": {},
     "output_type": "execute_result"
    }
   ],
   "source": [
    "Monthly_spnd.head(3)"
   ]
  },
  {
   "cell_type": "markdown",
   "id": "c419a08f-9162-4a99-831a-6aa470c03be6",
   "metadata": {},
   "source": [
    "7. Average Monthly Repayment by Customers?"
   ]
  },
  {
   "cell_type": "code",
   "execution_count": 81,
   "id": "fb7f70b5-c95d-4fdc-91e2-468d432e5203",
   "metadata": {},
   "outputs": [
    {
     "data": {
      "text/plain": [
       "Index(['No', 'Customer', 'Age', 'City', 'Product', 'Limit', 'Company',\n",
       "       'Segment', 'SL No:', 'Month', 'Amount', 'Unnamed: 4'],\n",
       "      dtype='object')"
      ]
     },
     "execution_count": 81,
     "metadata": {},
     "output_type": "execute_result"
    }
   ],
   "source": [
    "Cust_rep_df.columns"
   ]
  },
  {
   "cell_type": "code",
   "execution_count": 83,
   "id": "a21e6e9c-6905-4ee7-91b5-11cddd23c75b",
   "metadata": {},
   "outputs": [],
   "source": [
    "Cust_rep_df['Month'] = pd.to_datetime(Cust_rep_df['Month'], errors='coerce')"
   ]
  },
  {
   "cell_type": "code",
   "execution_count": 84,
   "id": "0d7eecec-0b02-4f94-a045-a8647ccf0e13",
   "metadata": {},
   "outputs": [],
   "source": [
    "Cust_rep_df['Month'] = pd.to_datetime(Cust_rep_df['Month'], format='%d-%m-%y')"
   ]
  },
  {
   "cell_type": "code",
   "execution_count": 85,
   "id": "75cb8dac-ff30-462c-8417-53159f68e44f",
   "metadata": {},
   "outputs": [],
   "source": [
    "Cust_rep_df['Year'] = Cust_rep_df['Month'].dt.year"
   ]
  },
  {
   "cell_type": "code",
   "execution_count": 86,
   "id": "a5765554-552a-4c3a-a612-a390b3002c70",
   "metadata": {},
   "outputs": [
    {
     "data": {
      "text/plain": [
       "Year\n",
       "2006    556\n",
       "2005    536\n",
       "2004    408\n",
       "Name: count, dtype: int64"
      ]
     },
     "execution_count": 86,
     "metadata": {},
     "output_type": "execute_result"
    }
   ],
   "source": [
    "(Cust_rep_df['Year']).value_counts()"
   ]
  },
  {
   "cell_type": "code",
   "execution_count": 88,
   "id": "bd99f505-40e4-4086-a104-e01331e2868c",
   "metadata": {},
   "outputs": [],
   "source": [
    "Cust_rep_df['Month'] = Cust_rep_df['Month'].dt.strftime('%b')"
   ]
  },
  {
   "cell_type": "code",
   "execution_count": 90,
   "id": "b31b361b-9aad-4fe5-8877-6793d9dfb6dc",
   "metadata": {},
   "outputs": [],
   "source": [
    "Monthly_repay = Cust_rep_df.groupby(['Year','Month'])[['Amount']].mean().reset_index()"
   ]
  },
  {
   "cell_type": "code",
   "execution_count": 91,
   "id": "39bd4e54-4b01-49c3-9d0d-ea1db69f8064",
   "metadata": {},
   "outputs": [],
   "source": [
    "Monthly_repay['Amount'] = Monthly_repay[['Amount']].round(2)"
   ]
  },
  {
   "cell_type": "code",
   "execution_count": 92,
   "id": "a4fdbe9d-53dc-4e89-a3c2-fc38d627b974",
   "metadata": {},
   "outputs": [],
   "source": [
    "Monthly_repay.rename(columns={'Amount':'Avg_Monthly_Repayment'},inplace= True)"
   ]
  },
  {
   "cell_type": "code",
   "execution_count": 93,
   "id": "c6b4ed26-2713-4e37-ac74-a960d974b0e3",
   "metadata": {},
   "outputs": [
    {
     "data": {
      "text/html": [
       "<div>\n",
       "<style scoped>\n",
       "    .dataframe tbody tr th:only-of-type {\n",
       "        vertical-align: middle;\n",
       "    }\n",
       "\n",
       "    .dataframe tbody tr th {\n",
       "        vertical-align: top;\n",
       "    }\n",
       "\n",
       "    .dataframe thead th {\n",
       "        text-align: right;\n",
       "    }\n",
       "</style>\n",
       "<table border=\"1\" class=\"dataframe\">\n",
       "  <thead>\n",
       "    <tr style=\"text-align: right;\">\n",
       "      <th></th>\n",
       "      <th>Year</th>\n",
       "      <th>Month</th>\n",
       "      <th>Avg_Monthly_Repayment</th>\n",
       "    </tr>\n",
       "  </thead>\n",
       "  <tbody>\n",
       "    <tr>\n",
       "      <th>0</th>\n",
       "      <td>2004</td>\n",
       "      <td>Apr</td>\n",
       "      <td>175632.66</td>\n",
       "    </tr>\n",
       "    <tr>\n",
       "      <th>1</th>\n",
       "      <td>2004</td>\n",
       "      <td>Feb</td>\n",
       "      <td>125612.51</td>\n",
       "    </tr>\n",
       "    <tr>\n",
       "      <th>2</th>\n",
       "      <td>2004</td>\n",
       "      <td>Jan</td>\n",
       "      <td>159971.50</td>\n",
       "    </tr>\n",
       "  </tbody>\n",
       "</table>\n",
       "</div>"
      ],
      "text/plain": [
       "   Year Month  Avg_Monthly_Repayment\n",
       "0  2004   Apr              175632.66\n",
       "1  2004   Feb              125612.51\n",
       "2  2004   Jan              159971.50"
      ]
     },
     "execution_count": 93,
     "metadata": {},
     "output_type": "execute_result"
    }
   ],
   "source": [
    "Monthly_repay.head(3)"
   ]
  },
  {
   "cell_type": "markdown",
   "id": "2ec2c322-66eb-4a0b-abcb-e6ead7e1513f",
   "metadata": {},
   "source": [
    "8. If ROI/Month = 2.9% then profit/Month = ?\n",
    "  Monthly Profit = Monthly Repayment - Monthly Spend \n",
    "  [Interest is earned only on positive profits and not on negative Amounts]"
   ]
  },
  {
   "cell_type": "code",
   "execution_count": 96,
   "id": "385b5cbb-9e4a-4395-b7d6-6c991dd8d2da",
   "metadata": {},
   "outputs": [],
   "source": [
    "Total_spend = Cust_spnd_df.groupby(by=['Year','Month']).agg(Monthly_spend = ('Amount','sum'))"
   ]
  },
  {
   "cell_type": "code",
   "execution_count": 98,
   "id": "caf8760f-63e5-45c0-a64c-d320de3cb201",
   "metadata": {},
   "outputs": [],
   "source": [
    "Total_repay = Cust_rep_df.groupby(by=['Year','Month']).agg(Monthly_repay = ('Amount','sum'))"
   ]
  },
  {
   "cell_type": "code",
   "execution_count": 99,
   "id": "15548dc9-dd8c-461d-89be-fac51bb593bd",
   "metadata": {},
   "outputs": [],
   "source": [
    "Profit = pd.merge(left=Total_spend, right=Total_repay, on= ['Year','Month'], how='inner')"
   ]
  },
  {
   "cell_type": "code",
   "execution_count": 101,
   "id": "03225acb-bc94-46a0-8e73-6eb74c1fbe11",
   "metadata": {},
   "outputs": [
    {
     "data": {
      "text/html": [
       "<div>\n",
       "<style scoped>\n",
       "    .dataframe tbody tr th:only-of-type {\n",
       "        vertical-align: middle;\n",
       "    }\n",
       "\n",
       "    .dataframe tbody tr th {\n",
       "        vertical-align: top;\n",
       "    }\n",
       "\n",
       "    .dataframe thead th {\n",
       "        text-align: right;\n",
       "    }\n",
       "</style>\n",
       "<table border=\"1\" class=\"dataframe\">\n",
       "  <thead>\n",
       "    <tr style=\"text-align: right;\">\n",
       "      <th></th>\n",
       "      <th></th>\n",
       "      <th>Monthly_spend</th>\n",
       "      <th>Monthly_repay</th>\n",
       "    </tr>\n",
       "    <tr>\n",
       "      <th>Year</th>\n",
       "      <th>Month</th>\n",
       "      <th></th>\n",
       "      <th></th>\n",
       "    </tr>\n",
       "  </thead>\n",
       "  <tbody>\n",
       "    <tr>\n",
       "      <th rowspan=\"3\" valign=\"top\">2004</th>\n",
       "      <th>Apr</th>\n",
       "      <td>3489415.34</td>\n",
       "      <td>5268979.74</td>\n",
       "    </tr>\n",
       "    <tr>\n",
       "      <th>Feb</th>\n",
       "      <td>3835951.84</td>\n",
       "      <td>3391537.65</td>\n",
       "    </tr>\n",
       "    <tr>\n",
       "      <th>Jan</th>\n",
       "      <td>44279811.96</td>\n",
       "      <td>44792020.72</td>\n",
       "    </tr>\n",
       "  </tbody>\n",
       "</table>\n",
       "</div>"
      ],
      "text/plain": [
       "            Monthly_spend  Monthly_repay\n",
       "Year Month                              \n",
       "2004 Apr       3489415.34     5268979.74\n",
       "     Feb       3835951.84     3391537.65\n",
       "     Jan      44279811.96    44792020.72"
      ]
     },
     "execution_count": 101,
     "metadata": {},
     "output_type": "execute_result"
    }
   ],
   "source": [
    "Profit.head(3)"
   ]
  },
  {
   "cell_type": "code",
   "execution_count": 102,
   "id": "a6e5be27-f657-42cc-9d09-d463adec51a4",
   "metadata": {},
   "outputs": [],
   "source": [
    "Profit['Profit'] = Profit['Monthly_repay'] - Profit['Monthly_spend']"
   ]
  },
  {
   "cell_type": "code",
   "execution_count": 104,
   "id": "fe32ca17-6000-43f6-be80-0b2df71edc4e",
   "metadata": {},
   "outputs": [],
   "source": [
    "Profit['Profit_with_interest'] = Profit['Profit'][Profit['Profit']>0]*0.029 + Profit['Profit']"
   ]
  },
  {
   "cell_type": "code",
   "execution_count": 106,
   "id": "e0ce01cb-ed26-4f14-be75-fb19ed60ce35",
   "metadata": {},
   "outputs": [],
   "source": [
    "Profit['Profit_with_interest'] = Profit[['Profit_with_interest']].round(2)"
   ]
  },
  {
   "cell_type": "code",
   "execution_count": 109,
   "id": "67a9188a-bdfd-4776-8a61-d9810e1d4a26",
   "metadata": {},
   "outputs": [
    {
     "data": {
      "text/html": [
       "<div>\n",
       "<style scoped>\n",
       "    .dataframe tbody tr th:only-of-type {\n",
       "        vertical-align: middle;\n",
       "    }\n",
       "\n",
       "    .dataframe tbody tr th {\n",
       "        vertical-align: top;\n",
       "    }\n",
       "\n",
       "    .dataframe thead th {\n",
       "        text-align: right;\n",
       "    }\n",
       "</style>\n",
       "<table border=\"1\" class=\"dataframe\">\n",
       "  <thead>\n",
       "    <tr style=\"text-align: right;\">\n",
       "      <th></th>\n",
       "      <th></th>\n",
       "      <th>Monthly_spend</th>\n",
       "      <th>Monthly_repay</th>\n",
       "      <th>Profit</th>\n",
       "      <th>Profit_with_interest</th>\n",
       "    </tr>\n",
       "    <tr>\n",
       "      <th>Year</th>\n",
       "      <th>Month</th>\n",
       "      <th></th>\n",
       "      <th></th>\n",
       "      <th></th>\n",
       "      <th></th>\n",
       "    </tr>\n",
       "  </thead>\n",
       "  <tbody>\n",
       "    <tr>\n",
       "      <th rowspan=\"3\" valign=\"top\">2004</th>\n",
       "      <th>Apr</th>\n",
       "      <td>3489415.34</td>\n",
       "      <td>5268979.74</td>\n",
       "      <td>1779564.40</td>\n",
       "      <td>1831171.77</td>\n",
       "    </tr>\n",
       "    <tr>\n",
       "      <th>Feb</th>\n",
       "      <td>3835951.84</td>\n",
       "      <td>3391537.65</td>\n",
       "      <td>-444414.19</td>\n",
       "      <td>NaN</td>\n",
       "    </tr>\n",
       "    <tr>\n",
       "      <th>Jan</th>\n",
       "      <td>44279811.96</td>\n",
       "      <td>44792020.72</td>\n",
       "      <td>512208.76</td>\n",
       "      <td>527062.81</td>\n",
       "    </tr>\n",
       "  </tbody>\n",
       "</table>\n",
       "</div>"
      ],
      "text/plain": [
       "            Monthly_spend  Monthly_repay      Profit  Profit_with_interest\n",
       "Year Month                                                                \n",
       "2004 Apr       3489415.34     5268979.74  1779564.40            1831171.77\n",
       "     Feb       3835951.84     3391537.65  -444414.19                   NaN\n",
       "     Jan      44279811.96    44792020.72   512208.76             527062.81"
      ]
     },
     "execution_count": 109,
     "metadata": {},
     "output_type": "execute_result"
    }
   ],
   "source": [
    "Profit.head(3)"
   ]
  },
  {
   "cell_type": "markdown",
   "id": "e9a587c8-2d88-4138-a23f-1ef8c4d9df40",
   "metadata": {},
   "source": [
    "9. Top 5 Product types"
   ]
  },
  {
   "cell_type": "code",
   "execution_count": 111,
   "id": "1cd6ffde-83b3-49d1-9967-54af12b1e32b",
   "metadata": {},
   "outputs": [
    {
     "data": {
      "text/plain": [
       "Index(['No', 'Customer', 'Age', 'City', 'Product', 'Limit', 'Company',\n",
       "       'Segment', 'Sl No:', 'Month', 'Type', 'Amount', 'Year'],\n",
       "      dtype='object')"
      ]
     },
     "execution_count": 111,
     "metadata": {},
     "output_type": "execute_result"
    }
   ],
   "source": [
    "Cust_spnd_df.columns"
   ]
  },
  {
   "cell_type": "code",
   "execution_count": 114,
   "id": "9c845ed1-b136-4dd5-a95c-9c6eca450a92",
   "metadata": {},
   "outputs": [
    {
     "data": {
      "text/plain": [
       "Type\n",
       "PETRO           200\n",
       "FOOD            160\n",
       "CAMERA          160\n",
       "AIR TICKET      147\n",
       "TRAIN TICKET    132\n",
       "Name: count, dtype: int64"
      ]
     },
     "execution_count": 114,
     "metadata": {},
     "output_type": "execute_result"
    }
   ],
   "source": [
    "Cust_spnd_df['Type'].value_counts().head(5)"
   ]
  },
  {
   "cell_type": "markdown",
   "id": "d3e3c3da-e75a-4d31-9eca-7fe6ab1bc686",
   "metadata": {},
   "source": [
    "10. Which city is having Max. spend ?"
   ]
  },
  {
   "cell_type": "code",
   "execution_count": 115,
   "id": "8567a7df-99c8-44db-a426-067d5cb87fe6",
   "metadata": {},
   "outputs": [
    {
     "data": {
      "text/html": [
       "<div>\n",
       "<style scoped>\n",
       "    .dataframe tbody tr th:only-of-type {\n",
       "        vertical-align: middle;\n",
       "    }\n",
       "\n",
       "    .dataframe tbody tr th {\n",
       "        vertical-align: top;\n",
       "    }\n",
       "\n",
       "    .dataframe thead th {\n",
       "        text-align: right;\n",
       "    }\n",
       "</style>\n",
       "<table border=\"1\" class=\"dataframe\">\n",
       "  <thead>\n",
       "    <tr style=\"text-align: right;\">\n",
       "      <th></th>\n",
       "      <th>Amount</th>\n",
       "    </tr>\n",
       "    <tr>\n",
       "      <th>City</th>\n",
       "      <th></th>\n",
       "    </tr>\n",
       "  </thead>\n",
       "  <tbody>\n",
       "    <tr>\n",
       "      <th>COCHIN</th>\n",
       "      <td>45963513.50</td>\n",
       "    </tr>\n",
       "    <tr>\n",
       "      <th>CALCUTTA</th>\n",
       "      <td>41108132.30</td>\n",
       "    </tr>\n",
       "    <tr>\n",
       "      <th>BANGALORE</th>\n",
       "      <td>40461647.02</td>\n",
       "    </tr>\n",
       "    <tr>\n",
       "      <th>BOMBAY</th>\n",
       "      <td>28603127.38</td>\n",
       "    </tr>\n",
       "    <tr>\n",
       "      <th>CHENNAI</th>\n",
       "      <td>22128635.65</td>\n",
       "    </tr>\n",
       "    <tr>\n",
       "      <th>TRIVANDRUM</th>\n",
       "      <td>15337155.87</td>\n",
       "    </tr>\n",
       "    <tr>\n",
       "      <th>PATNA</th>\n",
       "      <td>15260586.97</td>\n",
       "    </tr>\n",
       "    <tr>\n",
       "      <th>DELHI</th>\n",
       "      <td>10918286.54</td>\n",
       "    </tr>\n",
       "  </tbody>\n",
       "</table>\n",
       "</div>"
      ],
      "text/plain": [
       "                 Amount\n",
       "City                   \n",
       "COCHIN      45963513.50\n",
       "CALCUTTA    41108132.30\n",
       "BANGALORE   40461647.02\n",
       "BOMBAY      28603127.38\n",
       "CHENNAI     22128635.65\n",
       "TRIVANDRUM  15337155.87\n",
       "PATNA       15260586.97\n",
       "DELHI       10918286.54"
      ]
     },
     "execution_count": 115,
     "metadata": {},
     "output_type": "execute_result"
    }
   ],
   "source": [
    "Cust_spnd_df.groupby(by=['City'])[['Amount']].sum().sort_values(by='Amount', ascending= False)"
   ]
  },
  {
   "cell_type": "markdown",
   "id": "28fa5d5d-bbfb-4379-a478-298722f12a5c",
   "metadata": {},
   "source": [
    "11. Which age group is spending More?"
   ]
  },
  {
   "cell_type": "code",
   "execution_count": 121,
   "id": "e3c42ba3-7ba3-496a-afb2-86ee1ca87866",
   "metadata": {},
   "outputs": [
    {
     "data": {
      "text/plain": [
       "Index(['No', 'Customer', 'Age', 'City', 'Product', 'Limit', 'Company',\n",
       "       'Segment', 'Sl No:', 'Month', 'Type', 'Amount', 'Year', 'Age_group'],\n",
       "      dtype='object')"
      ]
     },
     "execution_count": 121,
     "metadata": {},
     "output_type": "execute_result"
    }
   ],
   "source": [
    "Cust_spnd_df.columns"
   ]
  },
  {
   "cell_type": "code",
   "execution_count": 116,
   "id": "58650e65-7c0c-49c8-b7b1-9fed533bc48c",
   "metadata": {},
   "outputs": [],
   "source": [
    "Cust_spnd_df['Age_group'] = pd.cut(Cust_spnd_df['Age'],bins=[0,30,55,80], labels= ['Young','Mid','Old'])"
   ]
  },
  {
   "cell_type": "code",
   "execution_count": 118,
   "id": "e0f55003-a6d7-4407-88ae-d63bf4f43790",
   "metadata": {},
   "outputs": [
    {
     "data": {
      "text/html": [
       "<div>\n",
       "<style scoped>\n",
       "    .dataframe tbody tr th:only-of-type {\n",
       "        vertical-align: middle;\n",
       "    }\n",
       "\n",
       "    .dataframe tbody tr th {\n",
       "        vertical-align: top;\n",
       "    }\n",
       "\n",
       "    .dataframe thead th {\n",
       "        text-align: right;\n",
       "    }\n",
       "</style>\n",
       "<table border=\"1\" class=\"dataframe\">\n",
       "  <thead>\n",
       "    <tr style=\"text-align: right;\">\n",
       "      <th></th>\n",
       "      <th>Amount</th>\n",
       "    </tr>\n",
       "    <tr>\n",
       "      <th>Age_group</th>\n",
       "      <th></th>\n",
       "    </tr>\n",
       "  </thead>\n",
       "  <tbody>\n",
       "    <tr>\n",
       "      <th>Mid</th>\n",
       "      <td>1.162742e+08</td>\n",
       "    </tr>\n",
       "    <tr>\n",
       "      <th>Young</th>\n",
       "      <td>5.268990e+07</td>\n",
       "    </tr>\n",
       "    <tr>\n",
       "      <th>Old</th>\n",
       "      <td>5.081696e+07</td>\n",
       "    </tr>\n",
       "  </tbody>\n",
       "</table>\n",
       "</div>"
      ],
      "text/plain": [
       "                 Amount\n",
       "Age_group              \n",
       "Mid        1.162742e+08\n",
       "Young      5.268990e+07\n",
       "Old        5.081696e+07"
      ]
     },
     "execution_count": 118,
     "metadata": {},
     "output_type": "execute_result"
    }
   ],
   "source": [
    "Cust_spnd_df.groupby(by=['Age_group'])[['Amount']].sum().round(2).sort_values(by='Amount', ascending= False)"
   ]
  },
  {
   "cell_type": "markdown",
   "id": "65e56229-9982-4383-92d9-d40bf630dfc8",
   "metadata": {},
   "source": [
    "12. Top 10 Customers in terms of repayment"
   ]
  },
  {
   "cell_type": "code",
   "execution_count": 120,
   "id": "fbbec83b-e977-42fe-80eb-57426eafe82f",
   "metadata": {},
   "outputs": [
    {
     "data": {
      "text/html": [
       "<div>\n",
       "<style scoped>\n",
       "    .dataframe tbody tr th:only-of-type {\n",
       "        vertical-align: middle;\n",
       "    }\n",
       "\n",
       "    .dataframe tbody tr th {\n",
       "        vertical-align: top;\n",
       "    }\n",
       "\n",
       "    .dataframe thead th {\n",
       "        text-align: right;\n",
       "    }\n",
       "</style>\n",
       "<table border=\"1\" class=\"dataframe\">\n",
       "  <thead>\n",
       "    <tr style=\"text-align: right;\">\n",
       "      <th></th>\n",
       "      <th>Amount</th>\n",
       "    </tr>\n",
       "    <tr>\n",
       "      <th>Customer</th>\n",
       "      <th></th>\n",
       "    </tr>\n",
       "  </thead>\n",
       "  <tbody>\n",
       "    <tr>\n",
       "      <th>A61</th>\n",
       "      <td>10539142.91</td>\n",
       "    </tr>\n",
       "    <tr>\n",
       "      <th>A60</th>\n",
       "      <td>9876290.74</td>\n",
       "    </tr>\n",
       "    <tr>\n",
       "      <th>A13</th>\n",
       "      <td>9572000.66</td>\n",
       "    </tr>\n",
       "    <tr>\n",
       "      <th>A43</th>\n",
       "      <td>8489871.46</td>\n",
       "    </tr>\n",
       "    <tr>\n",
       "      <th>A45</th>\n",
       "      <td>8448334.87</td>\n",
       "    </tr>\n",
       "    <tr>\n",
       "      <th>A12</th>\n",
       "      <td>8334760.16</td>\n",
       "    </tr>\n",
       "    <tr>\n",
       "      <th>A14</th>\n",
       "      <td>7943268.63</td>\n",
       "    </tr>\n",
       "    <tr>\n",
       "      <th>A44</th>\n",
       "      <td>7744730.12</td>\n",
       "    </tr>\n",
       "    <tr>\n",
       "      <th>A39</th>\n",
       "      <td>7622483.30</td>\n",
       "    </tr>\n",
       "    <tr>\n",
       "      <th>A42</th>\n",
       "      <td>7615460.86</td>\n",
       "    </tr>\n",
       "  </tbody>\n",
       "</table>\n",
       "</div>"
      ],
      "text/plain": [
       "               Amount\n",
       "Customer             \n",
       "A61       10539142.91\n",
       "A60        9876290.74\n",
       "A13        9572000.66\n",
       "A43        8489871.46\n",
       "A45        8448334.87\n",
       "A12        8334760.16\n",
       "A14        7943268.63\n",
       "A44        7744730.12\n",
       "A39        7622483.30\n",
       "A42        7615460.86"
      ]
     },
     "execution_count": 120,
     "metadata": {},
     "output_type": "execute_result"
    }
   ],
   "source": [
    "Cust_rep_df.groupby(by=['Customer'])[['Amount']].sum().round(2).sort_values(by='Amount',ascending = False).head(10)"
   ]
  },
  {
   "cell_type": "markdown",
   "id": "838d7157-ec0a-4085-965f-dc83be69bee6",
   "metadata": {},
   "source": [
    "13. Calculate the city wise spend on each products on yearly basis."
   ]
  },
  {
   "cell_type": "code",
   "execution_count": 122,
   "id": "9da6d7ac-5eb6-4ac8-a5e2-c509cdeec69d",
   "metadata": {},
   "outputs": [
    {
     "data": {
      "text/plain": [
       "Index(['No', 'Customer', 'Age', 'City', 'Product', 'Limit', 'Company',\n",
       "       'Segment', 'Sl No:', 'Month', 'Type', 'Amount', 'Year', 'Age_group'],\n",
       "      dtype='object')"
      ]
     },
     "execution_count": 122,
     "metadata": {},
     "output_type": "execute_result"
    }
   ],
   "source": [
    "Cust_spnd_df.columns"
   ]
  },
  {
   "cell_type": "code",
   "execution_count": 123,
   "id": "83d7fea3-692c-4071-9a0c-4d759cf704d7",
   "metadata": {},
   "outputs": [
    {
     "data": {
      "image/png": "[encoded data removed]",
      "text/plain": [
       "<Figure size 1200x1200 with 1 Axes>"
      ]
     },
     "metadata": {},
     "output_type": "display_data"
    }
   ],
   "source": [
    "Cust_spnd_df.pivot_table(index=['City','Product'], columns= ['Year'], values= ['Amount'], aggfunc= np.sum).plot(kind='barh', figsize=(12,12))\n",
    "plt.show()"
   ]
  },
  {
   "cell_type": "markdown",
   "id": "9a78dfe9-7fa7-4cd5-8ba1-5b1dd990e3af",
   "metadata": {},
   "source": [
    "14. Create graphs for \n",
    "    (i) Monthly comparision of total spends citywise.\n",
    "    (ii) Comparision of yearly spend on air ticket.\n",
    "    (iii) Comparision of monthly spend on each products (seasonality in terms of spend)"
   ]
  },
  {
   "cell_type": "code",
   "execution_count": 125,
   "id": "3024892f-bf7a-4bfc-ae25-737c176bb39e",
   "metadata": {},
   "outputs": [
    {
     "data": {
      "text/plain": [
       "Index(['No', 'Customer', 'Age', 'City', 'Product', 'Limit', 'Company',\n",
       "       'Segment', 'Sl No:', 'Month', 'Type', 'Amount', 'Year', 'Age_group'],\n",
       "      dtype='object')"
      ]
     },
     "execution_count": 125,
     "metadata": {},
     "output_type": "execute_result"
    }
   ],
   "source": [
    "Cust_spnd_df.columns"
   ]
  },
  {
   "cell_type": "code",
   "execution_count": 124,
   "id": "08b53598-bf98-4085-8194-a9b262d5da43",
   "metadata": {},
   "outputs": [
    {
     "data": {
      "image/png": "[encoded data removed]",
      "text/plain": [
       "<Figure size 800x1000 with 1 Axes>"
      ]
     },
     "metadata": {},
     "output_type": "display_data"
    }
   ],
   "source": [
    "Cust_spnd_df.pivot_table(index= ['City'], columns= ['Month'], values= ['Amount'], aggfunc= np.sum).plot(kind = 'barh', figsize=(8,10))\n",
    "plt.show()"
   ]
  },
  {
   "cell_type": "code",
   "execution_count": 126,
   "id": "7c1a5a55-d7d2-45a0-989c-092658d8324d",
   "metadata": {},
   "outputs": [
    {
     "data": {
      "text/plain": [
       "Index(['No', 'Customer', 'Age', 'City', 'Product', 'Limit', 'Company',\n",
       "       'Segment', 'Sl No:', 'Month', 'Type', 'Amount', 'Year', 'Age_group'],\n",
       "      dtype='object')"
      ]
     },
     "execution_count": 126,
     "metadata": {},
     "output_type": "execute_result"
    }
   ],
   "source": [
    "Cust_spnd_df.columns"
   ]
  },
  {
   "cell_type": "code",
   "execution_count": 127,
   "id": "f6bfa125-f4f5-49f1-93af-b07477826523",
   "metadata": {},
   "outputs": [],
   "source": [
    "air_ticket = Cust_spnd_df.pivot_table(index=['Year'], columns=Cust_spnd_df['Type'][Cust_spnd_df['Type']=='AIR TICKET'], values=['Amount'], aggfunc= np.sum)"
   ]
  },
  {
   "cell_type": "code",
   "execution_count": 128,
   "id": "7b71f29f-a561-431c-9a51-fae229d750b3",
   "metadata": {},
   "outputs": [
    {
     "data": {
      "text/html": [
       "<div>\n",
       "<style scoped>\n",
       "    .dataframe tbody tr th:only-of-type {\n",
       "        vertical-align: middle;\n",
       "    }\n",
       "\n",
       "    .dataframe tbody tr th {\n",
       "        vertical-align: top;\n",
       "    }\n",
       "\n",
       "    .dataframe thead tr th {\n",
       "        text-align: left;\n",
       "    }\n",
       "\n",
       "    .dataframe thead tr:last-of-type th {\n",
       "        text-align: right;\n",
       "    }\n",
       "</style>\n",
       "<table border=\"1\" class=\"dataframe\">\n",
       "  <thead>\n",
       "    <tr>\n",
       "      <th></th>\n",
       "      <th>Amount</th>\n",
       "    </tr>\n",
       "    <tr>\n",
       "      <th>Type</th>\n",
       "      <th>AIR TICKET</th>\n",
       "    </tr>\n",
       "    <tr>\n",
       "      <th>Year</th>\n",
       "      <th></th>\n",
       "    </tr>\n",
       "  </thead>\n",
       "  <tbody>\n",
       "    <tr>\n",
       "      <th>2004</th>\n",
       "      <td>4357225.35</td>\n",
       "    </tr>\n",
       "    <tr>\n",
       "      <th>2005</th>\n",
       "      <td>10550152.21</td>\n",
       "    </tr>\n",
       "    <tr>\n",
       "      <th>2006</th>\n",
       "      <td>5248469.56</td>\n",
       "    </tr>\n",
       "  </tbody>\n",
       "</table>\n",
       "</div>"
      ],
      "text/plain": [
       "           Amount\n",
       "Type   AIR TICKET\n",
       "Year             \n",
       "2004   4357225.35\n",
       "2005  10550152.21\n",
       "2006   5248469.56"
      ]
     },
     "execution_count": 128,
     "metadata": {},
     "output_type": "execute_result"
    }
   ],
   "source": [
    "air_ticket"
   ]
  },
  {
   "cell_type": "code",
   "execution_count": 130,
   "id": "bf69d4f9-3c80-44cf-af0e-3adfcb90700b",
   "metadata": {},
   "outputs": [
    {
     "data": {
      "image/png": "[encoded data removed]",
      "text/plain": [
       "<Figure size 640x480 with 1 Axes>"
      ]
     },
     "metadata": {},
     "output_type": "display_data"
    }
   ],
   "source": [
    "sns.barplot(data=air_ticket['Amount'], x=air_ticket.index, y='AIR TICKET')\n",
    "plt.show()"
   ]
  },
  {
   "cell_type": "code",
   "execution_count": 131,
   "id": "03f7ae7b-b05b-4f0b-9b2c-9e3bca6dfcd9",
   "metadata": {},
   "outputs": [
    {
     "data": {
      "text/plain": [
       "Index(['No', 'Customer', 'Age', 'City', 'Product', 'Limit', 'Company',\n",
       "       'Segment', 'Sl No:', 'Month', 'Type', 'Amount', 'Year', 'Age_group'],\n",
       "      dtype='object')"
      ]
     },
     "execution_count": 131,
     "metadata": {},
     "output_type": "execute_result"
    }
   ],
   "source": [
    "Cust_spnd_df.columns"
   ]
  },
  {
   "cell_type": "code",
   "execution_count": 132,
   "id": "f49e9597-cbf5-4f15-abe7-ab2b8d28d8f7",
   "metadata": {},
   "outputs": [],
   "source": [
    "Monthly_spend_product = Cust_spnd_df.pivot_table(index=['Month'], columns=['Product'], values=['Amount'], aggfunc=np.sum)"
   ]
  },
  {
   "cell_type": "code",
   "execution_count": 134,
   "id": "7931e620-aa27-48fd-b963-22aabdace54d",
   "metadata": {},
   "outputs": [
    {
     "data": {
      "image/png": "[encoded data removed]",
      "text/plain": [
       "<Figure size 1200x500 with 1 Axes>"
      ]
     },
     "metadata": {},
     "output_type": "display_data"
    }
   ],
   "source": [
    "plt.figure(figsize=(12,5))\n",
    "sns.lineplot(data=Monthly_spend_product['Amount'])\n",
    "plt.show()"
   ]
  },
  {
   "cell_type": "markdown",
   "id": "e3b8ccfe-ce84-4084-a2a1-a306e1b5db21",
   "metadata": {},
   "source": [
    "15. You need to find top 10 customers for each city in terms of their repayment amount by different products and by different time periods.\n",
    "   (i.e) year or month the user should be able to specify the product (Gold/Silver/Platinum) and time period (yearly or monthly) and the function          should automatically take these input while identifying the top 10 Customers.\n"
   ]
  },
  {
   "cell_type": "code",
   "execution_count": 136,
   "id": "ad6ba50d-4cb2-459e-bf8f-f6ba3c8573af",
   "metadata": {},
   "outputs": [
    {
     "data": {
      "text/html": [
       "<div>\n",
       "<style scoped>\n",
       "    .dataframe tbody tr th:only-of-type {\n",
       "        vertical-align: middle;\n",
       "    }\n",
       "\n",
       "    .dataframe tbody tr th {\n",
       "        vertical-align: top;\n",
       "    }\n",
       "\n",
       "    .dataframe thead th {\n",
       "        text-align: right;\n",
       "    }\n",
       "</style>\n",
       "<table border=\"1\" class=\"dataframe\">\n",
       "  <thead>\n",
       "    <tr style=\"text-align: right;\">\n",
       "      <th></th>\n",
       "      <th>No</th>\n",
       "      <th>Customer</th>\n",
       "      <th>Age</th>\n",
       "      <th>City</th>\n",
       "      <th>Product</th>\n",
       "      <th>Limit</th>\n",
       "      <th>Company</th>\n",
       "      <th>Segment</th>\n",
       "      <th>SL No:</th>\n",
       "      <th>Month</th>\n",
       "      <th>Amount</th>\n",
       "      <th>Unnamed: 4</th>\n",
       "      <th>Year</th>\n",
       "    </tr>\n",
       "  </thead>\n",
       "  <tbody>\n",
       "    <tr>\n",
       "      <th>0</th>\n",
       "      <td>1</td>\n",
       "      <td>A1</td>\n",
       "      <td>76</td>\n",
       "      <td>BANGALORE</td>\n",
       "      <td>Gold</td>\n",
       "      <td>500000.0</td>\n",
       "      <td>C1</td>\n",
       "      <td>Self Employed</td>\n",
       "      <td>NaN</td>\n",
       "      <td>Jan</td>\n",
       "      <td>495414.75</td>\n",
       "      <td>NaN</td>\n",
       "      <td>2004</td>\n",
       "    </tr>\n",
       "    <tr>\n",
       "      <th>1</th>\n",
       "      <td>1</td>\n",
       "      <td>A1</td>\n",
       "      <td>76</td>\n",
       "      <td>BANGALORE</td>\n",
       "      <td>Gold</td>\n",
       "      <td>500000.0</td>\n",
       "      <td>C1</td>\n",
       "      <td>Self Employed</td>\n",
       "      <td>2.0</td>\n",
       "      <td>Jan</td>\n",
       "      <td>245899.02</td>\n",
       "      <td>NaN</td>\n",
       "      <td>2004</td>\n",
       "    </tr>\n",
       "    <tr>\n",
       "      <th>2</th>\n",
       "      <td>1</td>\n",
       "      <td>A1</td>\n",
       "      <td>76</td>\n",
       "      <td>BANGALORE</td>\n",
       "      <td>Gold</td>\n",
       "      <td>500000.0</td>\n",
       "      <td>C1</td>\n",
       "      <td>Self Employed</td>\n",
       "      <td>3.0</td>\n",
       "      <td>Jan</td>\n",
       "      <td>259490.06</td>\n",
       "      <td>NaN</td>\n",
       "      <td>2004</td>\n",
       "    </tr>\n",
       "  </tbody>\n",
       "</table>\n",
       "</div>"
      ],
      "text/plain": [
       "   No Customer  Age       City Product     Limit Company        Segment  \\\n",
       "0   1       A1   76  BANGALORE    Gold  500000.0      C1  Self Employed   \n",
       "1   1       A1   76  BANGALORE    Gold  500000.0      C1  Self Employed   \n",
       "2   1       A1   76  BANGALORE    Gold  500000.0      C1  Self Employed   \n",
       "\n",
       "   SL No: Month     Amount  Unnamed: 4  Year  \n",
       "0     NaN   Jan  495414.75         NaN  2004  \n",
       "1     2.0   Jan  245899.02         NaN  2004  \n",
       "2     3.0   Jan  259490.06         NaN  2004  "
      ]
     },
     "execution_count": 136,
     "metadata": {},
     "output_type": "execute_result"
    }
   ],
   "source": [
    "Cust_rep_df.head(3)"
   ]
  },
  {
   "cell_type": "code",
   "execution_count": 148,
   "id": "f3b0741a-33d9-4d58-afc2-d6ed7fa8f5b6",
   "metadata": {},
   "outputs": [
    {
     "name": "stdin",
     "output_type": "stream",
     "text": [
      "enter the product 'Gold'/'Silver'/'Platimum': Gold\n",
      "enter the timer period 'Month'/'Year': Month\n"
     ]
    },
    {
     "data": {
      "text/html": [
       "<div>\n",
       "<style scoped>\n",
       "    .dataframe tbody tr th:only-of-type {\n",
       "        vertical-align: middle;\n",
       "    }\n",
       "\n",
       "    .dataframe tbody tr th {\n",
       "        vertical-align: top;\n",
       "    }\n",
       "\n",
       "    .dataframe thead th {\n",
       "        text-align: right;\n",
       "    }\n",
       "</style>\n",
       "<table border=\"1\" class=\"dataframe\">\n",
       "  <thead>\n",
       "    <tr style=\"text-align: right;\">\n",
       "      <th></th>\n",
       "      <th>City</th>\n",
       "      <th>Month</th>\n",
       "      <th>Customer</th>\n",
       "      <th>Amount</th>\n",
       "    </tr>\n",
       "  </thead>\n",
       "  <tbody>\n",
       "    <tr>\n",
       "      <th>0</th>\n",
       "      <td>BANGALORE</td>\n",
       "      <td>Apr</td>\n",
       "      <td>A14</td>\n",
       "      <td>812582.20</td>\n",
       "    </tr>\n",
       "    <tr>\n",
       "      <th>1</th>\n",
       "      <td>BANGALORE</td>\n",
       "      <td>Apr</td>\n",
       "      <td>A43</td>\n",
       "      <td>612541.80</td>\n",
       "    </tr>\n",
       "    <tr>\n",
       "      <th>2</th>\n",
       "      <td>BANGALORE</td>\n",
       "      <td>Apr</td>\n",
       "      <td>A1</td>\n",
       "      <td>508949.16</td>\n",
       "    </tr>\n",
       "    <tr>\n",
       "      <th>3</th>\n",
       "      <td>BANGALORE</td>\n",
       "      <td>Apr</td>\n",
       "      <td>A13</td>\n",
       "      <td>494392.40</td>\n",
       "    </tr>\n",
       "    <tr>\n",
       "      <th>4</th>\n",
       "      <td>BANGALORE</td>\n",
       "      <td>Apr</td>\n",
       "      <td>A92</td>\n",
       "      <td>459105.69</td>\n",
       "    </tr>\n",
       "    <tr>\n",
       "      <th>...</th>\n",
       "      <td>...</td>\n",
       "      <td>...</td>\n",
       "      <td>...</td>\n",
       "      <td>...</td>\n",
       "    </tr>\n",
       "    <tr>\n",
       "      <th>206</th>\n",
       "      <td>TRIVANDRUM</td>\n",
       "      <td>Feb</td>\n",
       "      <td>A28</td>\n",
       "      <td>968709.79</td>\n",
       "    </tr>\n",
       "    <tr>\n",
       "      <th>207</th>\n",
       "      <td>TRIVANDRUM</td>\n",
       "      <td>Jan</td>\n",
       "      <td>A28</td>\n",
       "      <td>1034461.46</td>\n",
       "    </tr>\n",
       "    <tr>\n",
       "      <th>208</th>\n",
       "      <td>TRIVANDRUM</td>\n",
       "      <td>Jul</td>\n",
       "      <td>A28</td>\n",
       "      <td>380460.40</td>\n",
       "    </tr>\n",
       "    <tr>\n",
       "      <th>209</th>\n",
       "      <td>TRIVANDRUM</td>\n",
       "      <td>Mar</td>\n",
       "      <td>A28</td>\n",
       "      <td>1547067.86</td>\n",
       "    </tr>\n",
       "    <tr>\n",
       "      <th>210</th>\n",
       "      <td>TRIVANDRUM</td>\n",
       "      <td>May</td>\n",
       "      <td>A28</td>\n",
       "      <td>2233253.41</td>\n",
       "    </tr>\n",
       "  </tbody>\n",
       "</table>\n",
       "<p>211 rows × 4 columns</p>\n",
       "</div>"
      ],
      "text/plain": [
       "           City Month Customer      Amount\n",
       "0     BANGALORE   Apr      A14   812582.20\n",
       "1     BANGALORE   Apr      A43   612541.80\n",
       "2     BANGALORE   Apr       A1   508949.16\n",
       "3     BANGALORE   Apr      A13   494392.40\n",
       "4     BANGALORE   Apr      A92   459105.69\n",
       "..          ...   ...      ...         ...\n",
       "206  TRIVANDRUM   Feb      A28   968709.79\n",
       "207  TRIVANDRUM   Jan      A28  1034461.46\n",
       "208  TRIVANDRUM   Jul      A28   380460.40\n",
       "209  TRIVANDRUM   Mar      A28  1547067.86\n",
       "210  TRIVANDRUM   May      A28  2233253.41\n",
       "\n",
       "[211 rows x 4 columns]"
      ]
     },
     "execution_count": 148,
     "metadata": {},
     "output_type": "execute_result"
    }
   ],
   "source": [
    "def top_10_customers(product,time_period):\n",
    "    product = product.title()\n",
    "    time_period = time_period.lower()\n",
    "    product_wise = Cust_rep_df.loc[Cust_rep_df['Product']==product,['City','Year','Month','Customer','Amount']]\n",
    "    if time_period == 'year':\n",
    "        City_wise = product_wise.groupby(by=['City','Year','Customer'])[['Amount']].sum()\n",
    "        City_wise = City_wise.sort_values(['City','Year','Amount'],ascending = [True,True,False])\n",
    "        return City_wise.groupby(by=['City','Year']).head(10).reset_index()\n",
    "    elif time_period == 'month':\n",
    "        City_wise = product_wise.groupby(by=['City','Month','Customer'])[['Amount']].sum()\n",
    "        City_wise = City_wise.sort_values(['City','Month','Amount'],ascending = [True,True,False])\n",
    "        return City_wise.groupby(by=['City','Month']).head(10).reset_index()        \n",
    "    else:\n",
    "        return \"Invalid time_period. Please enter 'Month' or 'Year'.\"\n",
    "product = input(\"enter the product 'Gold'/'Silver'/'Platimum':\").title()\n",
    "time_period = input(\"enter the timer period 'Month'/'Year':\").lower()\n",
    "\n",
    "top_10_customers(product,time_period)"
   ]
  },
  {
   "cell_type": "code",
   "execution_count": null,
   "id": "e8f21c5a-254a-4149-aa6c-984b18ba2541",
   "metadata": {},
   "outputs": [],
   "source": []
  }
 ],
 "metadata": {
  "kernelspec": {
   "display_name": "Python 3 (ipykernel)",
   "language": "python",
   "name": "python3"
  },
  "language_info": {
   "codemirror_mode": {
    "name": "ipython",
    "version": 3
   },
   "file_extension": ".py",
   "mimetype": "text/x-python",
   "name": "python",
   "nbconvert_exporter": "python",
   "pygments_lexer": "ipython3",
   "version": "3.12.7"
  }
 },
 "nbformat": 4,
 "nbformat_minor": 5
}
